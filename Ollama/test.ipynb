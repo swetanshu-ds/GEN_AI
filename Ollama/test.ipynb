{
 "cells": [
  {
   "cell_type": "code",
   "execution_count": 3,
   "metadata": {},
   "outputs": [],
   "source": [
    "from langchain.llms import Ollama"
   ]
  },
  {
   "cell_type": "code",
   "execution_count": 5,
   "metadata": {},
   "outputs": [],
   "source": [
    "model=Ollama(base_url=\"http://localhost:11434\",model=\"llama2\")"
   ]
  },
  {
   "cell_type": "code",
   "execution_count": 6,
   "metadata": {},
   "outputs": [
    {
     "data": {
      "text/plain": [
       "'\\n Certainly! Artificial intelligence (AI) is a rapidly growing field with many significant research areas and achievements. Here are some of the most notable ones:\\n\\n1. Machine Learning (ML): ML is a subset of AI that involves training algorithms to learn from data and improve their performance over time. Research in ML has led to the development of various techniques, such as neural networks, deep learning, and natural language processing.\\n2. Computer Vision (CV): CV is a field of AI that focuses on enabling machines to interpret and understand visual information from the world. Research in CV has led to breakthroughs in image recognition, object detection, and facial recognition.\\n3. Natural Language Processing (NLP): NLP is a field of AI that deals with the interaction between computers and human language. Research in NLP has led to advancements in speech recognition, language translation, and text-to-speech systems.\\n4. Robotics: Robotics involves the design and development of robots that can perform tasks that typically require human intelligence. Research in robotics has led to the creation of autonomous vehicles, robotic arms, and other advanced robotic systems.\\n5. Reinforcement Learning (RL): RL is a subfield of AI that focuses on training algorithms to make decisions based on rewards or penalties. Research in RL has led to advancements in areas such as game playing, autonomous driving, and drug discovery.\\n6. Generative Adversarial Networks (GANs): GANs are a type of AI algorithm that can generate new data that resembles existing data. Research in GANs has led to breakthroughs in image synthesis, video generation, and text-to-image synthesis.\\n7. Deep Learning (DL): DL is a subfield of ML that focuses on the use of neural networks with multiple layers to analyze data. Research in DL has led to advancements in areas such as speech recognition, image classification, and natural language processing.\\n8. Robust AI: Robust AI involves developing algorithms that can operate effectively in uncertain or noisy environments. Research in robust AI has led to the development of more reliable and fault-tolerant AI systems.\\n9. Explainable AI (XAI): XAI is a subfield of AI that focuses on developing algorithms that can provide clear explanations for their decisions. Research in XAI has led to the development of more transparent and accountable AI systems.\\n10. Ethical AI: Ethical AI involves developing algorithms that are fair, unbiased, and respectful of ethical norms. Research in ethical AI has led to the development of more responsible and ethical AI systems.\\n\\nThese are just a few examples of the many significant research areas in the field of AI. As AI continues to evolve, we can expect new breakthroughs and advancements in these areas and others.'"
      ]
     },
     "execution_count": 6,
     "metadata": {},
     "output_type": "execute_result"
    }
   ],
   "source": [
    "model(\"hi can you tell me the most significat research in the filed of AI?\")"
   ]
  },
  {
   "cell_type": "code",
   "execution_count": 7,
   "metadata": {},
   "outputs": [
    {
     "data": {
      "text/plain": [
       "'\\nCertainly! Artificial intelligence (AI) is a field of computer science that focuses on creating intelligent machines that can perform tasks that typically require human intelligence, such as learning, problem-solving, and decision-making. The goal of AI research is to develop algorithms and systems that can think and act like humans, or even improve upon human performance in certain tasks.\\n\\nThere are several subfields within AI, including:\\n\\n1. Machine Learning: This involves training machines to learn from data without being explicitly programmed. Machine learning algorithms can be used for tasks such as image recognition, speech recognition, and natural language processing.\\n2. Natural Language Processing (NLP): This subfield focuses on the interaction between computers and human language. NLP can be used for tasks such as sentiment analysis, text classification, and machine translation.\\n3. Robotics: This involves developing machines that can perform tasks that typically require a physical presence, such as manipulating objects or navigating a environment.\\n4. Computer Vision: This subfield focuses on enabling computers to interpret and understand visual information from the world around them, such as images and videos.\\n5. Expert Systems: These are computer programs that mimic the decision-making abilities of a human expert in a particular domain.\\n6. Robotic Process Automation (RPA): This involves using software bots to automate repetitive tasks, freeing up human time for more strategic activities.\\n7. Deep Learning: This is a subfield of machine learning that focuses on developing algorithms that can learn and improve on their own by analyzing large amounts of data.\\n8. Reinforcement Learning: This involves training machines to make decisions based on rewards or penalties, rather than explicit programming.\\n9. Generative Adversarial Networks (GANs): These are algorithms that can generate new data that resembles existing data, such as images or text.\\n10. Transformers: These are a type of neural network architecture that is particularly well-suited to natural language processing tasks, such as machine translation and language modeling.\\n\\nAI has many applications in various industries, including:\\n\\n1. Healthcare: AI can be used for medical imaging analysis, drug discovery, and personalized medicine.\\n2. Finance: AI can be used for fraud detection, risk management, and portfolio management.\\n3. Manufacturing: AI can be used for predictive maintenance, quality control, and supply chain optimization.\\n4. Transportation: AI can be used for autonomous vehicles, route planning, and traffic management.\\n5. Education: AI can be used for personalized learning, grading, and student assessment.\\n6. Retail: AI can be used for customer service, recommendation systems, and inventory management.\\n7. Entertainment: AI can be used for film and video production, music composition, and game development.\\n8. Security: AI can be used for intrusion detection, fraud detection, and cybersecurity.\\n9. Energy: AI can be used for energy efficiency optimization, predictive maintenance, and renewable energy forecasting.\\n10. Agriculture: AI can be used for crop yield prediction, soil analysis, and autonomous farming equipment.\\n\\nOverall, AI has the potential to revolutionize many aspects of our lives and industries, and it will continue to be a rapidly evolving field in the coming years.'"
      ]
     },
     "execution_count": 7,
     "metadata": {},
     "output_type": "execute_result"
    }
   ],
   "source": [
    "model(\"hi can you tell me the about AI?\")"
   ]
  },
  {
   "cell_type": "code",
   "execution_count": null,
   "metadata": {},
   "outputs": [],
   "source": []
  }
 ],
 "metadata": {
  "kernelspec": {
   "display_name": "base",
   "language": "python",
   "name": "python3"
  },
  "language_info": {
   "codemirror_mode": {
    "name": "ipython",
    "version": 3
   },
   "file_extension": ".py",
   "mimetype": "text/x-python",
   "name": "python",
   "nbconvert_exporter": "python",
   "pygments_lexer": "ipython3",
   "version": "3.9.7"
  }
 },
 "nbformat": 4,
 "nbformat_minor": 2
}
